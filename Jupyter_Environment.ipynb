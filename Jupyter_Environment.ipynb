{
  "nbformat": 4,
  "nbformat_minor": 0,
  "metadata": {
    "colab": {
      "name": "Jupyter Environment.ipynb",
      "provenance": [],
      "authorship_tag": "ABX9TyP/1Aq1CXJmBAbp5nl/EGVc",
      "include_colab_link": true
    },
    "kernelspec": {
      "name": "python3",
      "display_name": "Python 3"
    }
  },
  "cells": [
    {
      "cell_type": "markdown",
      "metadata": {
        "id": "view-in-github",
        "colab_type": "text"
      },
      "source": [
        "<a href=\"https://colab.research.google.com/github/parth627/Machine-Learning/blob/main/Jupyter_Environment.ipynb\" target=\"_parent\"><img src=\"https://colab.research.google.com/assets/colab-badge.svg\" alt=\"Open In Colab\"/></a>"
      ]
    },
    {
      "cell_type": "markdown",
      "metadata": {
        "id": "q3eA8ze3wNK3"
      },
      "source": [
        "Hello, This is Parth Langalia's first notebook."
      ]
    },
    {
      "cell_type": "code",
      "metadata": {
        "id": "5T-OHqU1wDh3"
      },
      "source": [
        ""
      ],
      "execution_count": null,
      "outputs": []
    },
    {
      "cell_type": "code",
      "metadata": {
        "colab": {
          "base_uri": "https://localhost:8080/"
        },
        "id": "Z9npMbPIwa5n",
        "outputId": "c2939d96-1476-430c-b119-815d4bb5369d"
      },
      "source": [
        "print('Table of squares')\r\n",
        "for i in range(10):\r\n",
        "  print(f'{i} times {i} = {i*i}')"
      ],
      "execution_count": 5,
      "outputs": [
        {
          "output_type": "stream",
          "text": [
            "Table of squares\n",
            "0 times 0 = 0\n",
            "1 times 1 = 1\n",
            "2 times 2 = 4\n",
            "3 times 3 = 9\n",
            "4 times 4 = 16\n",
            "5 times 5 = 25\n",
            "6 times 6 = 36\n",
            "7 times 7 = 49\n",
            "8 times 8 = 64\n",
            "9 times 9 = 81\n"
          ],
          "name": "stdout"
        }
      ]
    }
  ]
}